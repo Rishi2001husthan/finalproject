{
 "cells": [
  {
   "cell_type": "code",
   "execution_count": null,
   "id": "b758b340-28c4-4129-8b04-87ddacb01cee",
   "metadata": {},
   "outputs": [],
   "source": [
    "# Data Science Tools and Ecosystem"
   ]
  },
  {
   "cell_type": "markdown",
   "id": "f93e4438-69a5-4bff-badf-f50fd25e391e",
   "metadata": {},
   "source": [
    "In this notebook, Data Science Tools and Ecosystem are summarized."
   ]
  },
  {
   "cell_type": "markdown",
   "id": "9f0e2762-2959-4ccb-b0d8-dd53f411e0a7",
   "metadata": {},
   "source": [
    "**Objectives:**\n",
    "+ listed the popular languages data Scientists use.\n",
    "+ some commonly used libraries in Data science.\n",
    "+ A table representing tools of Data Science.\n",
    "+ Example of arithmetic expression.\n",
    "+ Arithmetic expression of minutes to hours."
   ]
  },
  {
   "cell_type": "markdown",
   "id": "86badf3f-dca0-4f6f-ba8d-ec8acffe61ce",
   "metadata": {},
   "source": [
    "Some of the popular languages that Data Scientists use are:\n",
    "1. Scala\n",
    "2. Julia\n",
    "3. Python"
   ]
  },
  {
   "cell_type": "markdown",
   "id": "d73c887a-7dc6-4024-ba56-cffe63435b95",
   "metadata": {},
   "source": [
    "Some of the commonly used libraries used by Data Scientists include:\n",
    " 1. NumPy\n",
    " 2. Pandas\n",
    " 3. Matplotlib"
   ]
  },
  {
   "cell_type": "markdown",
   "id": "12405c81-f936-415b-8717-678afdfbe599",
   "metadata": {},
   "source": [
    "|Data Science Tools|\n",
    "|------------------|\n",
    "| Jupyter Notebook|\n",
    "| VS Code|\n",
    "| Pycharm|"
   ]
  },
  {
   "cell_type": "markdown",
   "id": "76875107-7b2f-43be-906d-4a2d7a2f6f45",
   "metadata": {},
   "source": [
    "### Below are a few examples of evaluating arithmetic expressions in Python:\n"
   ]
  },
  {
   "cell_type": "code",
   "execution_count": 1,
   "id": "65bdf607-36e0-42dc-a90d-103ca0049e37",
   "metadata": {
    "tags": []
   },
   "outputs": [
    {
     "data": {
      "text/plain": [
       "17"
      ]
     },
     "execution_count": 1,
     "metadata": {},
     "output_type": "execute_result"
    }
   ],
   "source": [
    "#This a simple arithmetic expression to mutiply then add integers.\n",
    "(3*4)+5"
   ]
  },
  {
   "cell_type": "code",
   "execution_count": 2,
   "id": "b85b15a5-19f6-4a6e-997b-01ed047a8a0d",
   "metadata": {
    "tags": []
   },
   "outputs": [
    {
     "data": {
      "text/plain": [
       "3.3333333333333335"
      ]
     },
     "execution_count": 2,
     "metadata": {},
     "output_type": "execute_result"
    }
   ],
   "source": [
    "#This will convert 200 minutes to hours by diving by 60.\n",
    "(200/60)"
   ]
  },
  {
   "cell_type": "markdown",
   "id": "cd31e183-1615-4ac8-a6a7-ce62039a3376",
   "metadata": {},
   "source": [
    "## Author\n",
    "   Rishi Husthan"
   ]
  },
  {
   "cell_type": "code",
   "execution_count": null,
   "id": "d96785ee-fde9-4a92-ba20-9d8359083d11",
   "metadata": {},
   "outputs": [],
   "source": []
  }
 ],
 "metadata": {
  "kernelspec": {
   "display_name": "Python",
   "language": "python",
   "name": "conda-env-python-py"
  },
  "language_info": {
   "codemirror_mode": {
    "name": "ipython",
    "version": 3
   },
   "file_extension": ".py",
   "mimetype": "text/x-python",
   "name": "python",
   "nbconvert_exporter": "python",
   "pygments_lexer": "ipython3",
   "version": "3.7.12"
  }
 },
 "nbformat": 4,
 "nbformat_minor": 5
}
